{
 "cells": [
  {
   "cell_type": "code",
   "execution_count": null,
   "metadata": {},
   "outputs": [],
   "source": [
    "# Single line comments start with a number symbol."
   ]
  },
  {
   "cell_type": "markdown",
   "metadata": {},
   "source": [
    "## 1. Primitive Datatypes and Operators\n",
    "(Slide 1)\n",
    "----"
   ]
  },
  {
   "cell_type": "code",
   "execution_count": null,
   "metadata": {},
   "outputs": [],
   "source": [
    "# You have numbers\n",
    "3  # => 3"
   ]
  },
  {
   "cell_type": "code",
   "execution_count": null,
   "metadata": {},
   "outputs": [],
   "source": [
    "# Math is what you would expect\n",
    "print(1 + 1)   # => 2\n",
    "print(8 - 1)   # => 7\n",
    "print(10 * 2)  # => 20\n",
    "print(35 / 5)  # => 7.0\n",
    "\n",
    "# Enforce precedence with parentheses\n",
    "print((1 + 3) * 2)  # => 8"
   ]
  },
  {
   "cell_type": "code",
   "execution_count": null,
   "metadata": {},
   "outputs": [],
   "source": [
    "# Integer division rounds down for both positive and negative numbers.\n",
    "print(5 // 3)     # => 1\n",
    "print(-5 // 3  )   # => -2\n",
    "print(5.0 // 3.0) # => 1.0 # works on floats too\n",
    "print(-5.0 // 3.0) # => -2.0\n",
    "\n",
    "# The result of division is always a float\n",
    "print(10.0 / 3)  # => 3.3333333333333335"
   ]
  },
  {
   "cell_type": "code",
   "execution_count": null,
   "metadata": {},
   "outputs": [],
   "source": [
    "# Modulo operation\n",
    "print(7 % 3)  # => 1      2*3 +[ 1 ]<--- this is the modulo\n",
    "\n",
    "# Exponentiation (x**y, x to the yth power)\n",
    "print(2**3)  # => 8"
   ]
  },
  {
   "cell_type": "markdown",
   "metadata": {},
   "source": [
    "## 2. Boolean and Comparisons\n",
    "## (Slide 2)"
   ]
  },
  {
   "cell_type": "code",
   "execution_count": null,
   "metadata": {},
   "outputs": [],
   "source": [
    "# Boolean values are primitives (embedded within the language) (Note: the capitalization)\n",
    "print(True)\n",
    "print(False)\n",
    "\n",
    "print('--')\n",
    "# negate with not\n",
    "print(not True)   # => False\n",
    "print(not False)  # => True\n",
    "\n",
    "print('--')\n",
    "# Boolean Operators\n",
    "# Note \"and\" and \"or\" are case-sensitive\n",
    "print(True and False ) # => False\n",
    "print(False or True)   # => True\n",
    "\n",
    "print('--')\n",
    "# True and False are actually 1 and 0 but with different keywords\n",
    "print(True + True) # => 2\n",
    "print(True * 8 )   # => 8\n",
    "print(False - 5)   # => -5\n",
    "\n",
    "\n",
    "print('--')\n",
    "# Using boolean logical operators on ints casts them to booleans for evaluation\n",
    "#but their non-cast value is returned\n",
    "# Don't mix up with bool(ints) and bitwise and/or (&,|)\n",
    "print(bool(0))     # => False\n",
    "print(bool(4) )    # => True\n",
    "print(bool(-6) )   # => True\n",
    "print(0 and 2  )   # => 0\n",
    "print(-5 or 0  )   # => -5"
   ]
  },
  {
   "cell_type": "code",
   "execution_count": null,
   "metadata": {},
   "outputs": [],
   "source": [
    "# Equality is ==\n",
    "print(1 == 1)  # => True\n",
    "print(2 == 1)  # => False\n",
    "\n",
    "print(\"--\")\n",
    "# Inequality is !=\n",
    "print(1 != 1)  # => False\n",
    "print(2 != 1)  # => True\n",
    "\n",
    "print(\"--\")\n",
    "# More comparisons\n",
    "print(1 < 10)  # => True\n",
    "print(1 > 10)  # => False\n",
    "print(2 <= 2)  # => True\n",
    "print(2 >= 2)  # => True\n",
    "\n",
    "print(\"--\")\n",
    "# Seeing whether a value is in a range\n",
    "print(1 < 2 and 2 < 3)  # => True\n",
    "print(2 < 3 and 3 < 2)  # => False\n",
    "# Chaining makes this look nicer\n",
    "print(\"--\")\n",
    "print(1 < 2 < 3)  # => True\n",
    "print(2 < 3 < 2)  # => False"
   ]
  },
  {
   "cell_type": "markdown",
   "metadata": {},
   "source": [
    "## 3. Strings of characters\n",
    "## (slide 3)"
   ]
  },
  {
   "cell_type": "code",
   "execution_count": null,
   "metadata": {},
   "outputs": [],
   "source": [
    "# Strings are created with \" or '\n",
    "\"This is a string.\"\n",
    "'This is also a string.'\n",
    "\"\"\" This is a multiline string\n",
    "    Multiline strings can be written\n",
    "    using three \"s, and are often used\n",
    "    as documentation.\n",
    "\"\"\"\n",
    "\n",
    "# Strings can be added too! But try not to do this.\n",
    "print(\"Hello \" + \"world!\")  # => \"Hello world!\"\n",
    "# String literals (but not variables) can be concatenated without using '+'\n",
    "print(\"Hello \" \"world!\")    # => \"Hello world!\"\n",
    "print(\"--\")\n",
    "# A string can be treated like a list of characters\n",
    "print(\"This is a string\"[0])  # => 'T'\n",
    "print(\"--\")\n",
    "# You can find the length of a string\n",
    "print(len(\"This is a string\"))  # => 16\n",
    "print(\"--\")\n",
    "# .format can be used to format strings, like this:\n",
    "print(\"{} can be {}\".format(\"Strings\", \"interpolated\"))  # => \"Strings can be interpolated\"\n",
    "print(\"--\")\n",
    "# You can repeat the formatting arguments to save some typing.\n",
    "print(\"{0} be nimble, {0} be quick, {0} jump over the {1}\".format(\"Jack\", \"candle stick\"))\n",
    "# => \"Jack be nimble, Jack be quick, Jack jump over the candle stick\"\n",
    "print(\"--\")\n",
    "# You can use keywords if you don't want to count.\n",
    "print(\"{name} wants to eat {food}\".format(name=\"Bob\", food=\"lasagna\")) \n",
    "# => \"Bob wants to eat lasagna\"\n",
    "print(\"--\")\n",
    "\n",
    "# You can also format using f-strings or formatted string literals (in Python 3.6+)\n",
    "name = \"Reiko\"\n",
    "print(f\"She said her name is {name}.\") # => \"She said her name is Reiko\"\n",
    "# You can basically put any Python statement inside the braces and\n",
    "#it will be output in the string.\n",
    "print(f\"{name} is {len(name)} characters long.\")\n",
    "\n"
   ]
  },
  {
   "cell_type": "code",
   "execution_count": null,
   "metadata": {
    "scrolled": true
   },
   "outputs": [],
   "source": [
    "# None is an object\n",
    "print(None  )# => None\n",
    "\n",
    "print('--')\n",
    "\n",
    "# None, 0, and empty strings/lists/dicts/tuples all evaluate to False.\n",
    "# All other values are True\n",
    "print(bool(0))   # => False\n",
    "print(bool(\"\"))  # => False\n",
    "print(bool([]))  # => False\n",
    "print(bool({}))  # => False\n",
    "print(bool(()))  # => False\n",
    "\n"
   ]
  },
  {
   "cell_type": "markdown",
   "metadata": {},
   "source": [
    "## 4. Printing, Variables and Functions\n",
    "---"
   ]
  },
  {
   "cell_type": "code",
   "execution_count": null,
   "metadata": {},
   "outputs": [],
   "source": [
    "# Python has a print function\n",
    "print(\"I'm Python. Nice to meet you!\")  # => I'm Python. Nice to meet you!\n",
    "\n",
    "# By default the print function also prints out a newline at the end.\n",
    "# Use the optional argument end to change the end string.\n",
    "print(\"Hello, World\", end=\"!\")  # => Hello, World!\n",
    "print(\"\\n\")\n",
    "# There are no declarations, only assignments.\n",
    "# Convention is to use lower_case_with_underscores\n",
    "some_var = 5\n",
    "print(some_var)  # => 5\n",
    "\n",
    "# Accessing a previously unassigned variable is an exception.\n",
    "# See Control Flow to learn more about exception handling.\n",
    "some_unknown_var  # Raises a NameError"
   ]
  },
  {
   "cell_type": "code",
   "execution_count": null,
   "metadata": {},
   "outputs": [],
   "source": [
    "# Use \"def\" to create new functions\n",
    "def add(x, y):\n",
    "    print(\"x is {} and y is {}\".format(x, y))\n",
    "    return x + y  # Return values with a return statement\n",
    "\n",
    "# Calling functions with parameters\n",
    "print(add(5, 6))  # => prints out \"x is 5 and y is 6\" and returns 11\n",
    "\n",
    "\n",
    "# Returning multiple values (with tuple assignments)\n",
    "def swap(x, y):\n",
    "    return y, x  # Return multiple values as a tuple without the parenthesis.\n",
    "                 # (Note: parenthesis have been excluded but can be included)\n",
    "\n",
    "print(\"--\")\n",
    "x = 1\n",
    "y = 2\n",
    "print(x,y)\n",
    "x, y = swap(x, y)     # => x = 2, y = 1\n",
    "# (x, y) = swap(x,y)  # Again parenthesis have been excluded but can be included.\n",
    "print(x,y)\n",
    "\n",
    "\n",
    "# Function Scope\n",
    "x = 5\n",
    "\n",
    "def set_x(num):\n",
    "    # Local var x not the same as global variable x\n",
    "    x = num    # => 43\n",
    "    print(x)   # => 43\n",
    "\n",
    "print(\"--\")\n",
    "set_x(43)\n",
    "print(x)"
   ]
  },
  {
   "cell_type": "markdown",
   "metadata": {},
   "source": [
    "## 5. Control flow with if’s and while loop"
   ]
  },
  {
   "cell_type": "code",
   "execution_count": null,
   "metadata": {},
   "outputs": [],
   "source": [
    "# Let's just make a variable\n",
    "some_var = 5\n",
    "\n",
    "# Here is an if statement. Indentation is significant in Python!\n",
    "# Convention is to use four spaces, not tabs.\n",
    "# This prints \"some_var is smaller than 10\"\n",
    "if some_var > 10:\n",
    "    print(\"some_var is totally bigger than 10.\")\n",
    "elif some_var < 10:    # This elif clause is optional.\n",
    "    print(\"some_var is smaller than 10.\")\n",
    "else:                  # This is optional too.\n",
    "    print(\"some_var is indeed 10.\")\n"
   ]
  },
  {
   "cell_type": "code",
   "execution_count": null,
   "metadata": {},
   "outputs": [],
   "source": [
    "\"\"\"\n",
    "While loops go until a condition is no longer met.\n",
    "prints:\n",
    "    0\n",
    "    1\n",
    "    2\n",
    "    3\n",
    "\"\"\"\n",
    "x = 0\n",
    "while x < 4:\n",
    "    print(x)\n",
    "    x += 1  # Shorthand for x = x + 1\n"
   ]
  },
  {
   "cell_type": "markdown",
   "metadata": {},
   "source": [
    "## 6. Lists\n",
    "----"
   ]
  },
  {
   "cell_type": "code",
   "execution_count": null,
   "metadata": {},
   "outputs": [],
   "source": [
    "# Lists store sequences\n",
    "li = []\n",
    "# You can start with a prefilled list\n",
    "other_li = [4, 5, 6]\n",
    "\n",
    "print(li)\n",
    "print(other_li)"
   ]
  },
  {
   "cell_type": "code",
   "execution_count": null,
   "metadata": {},
   "outputs": [],
   "source": [
    "li = [1,2,3]\n",
    "\n",
    "# Access a list like you would any array\n",
    "print(li[0] )# => 1\n",
    "# Look at the last element\n",
    "print(li[-1])# => 3\n",
    "\n",
    "# You can look at ranges with slice syntax.\n",
    "# The start index is included, the end index is not\n",
    "# (It's a closed/open range for you mathy types.)\n",
    "print(li[1:3])   # => [2, 3]\n",
    "# Omit the beginning and return the list\n",
    "print(li[2:])# => [3]\n",
    "# Omit the end and return the list\n",
    "print(li[:2])# => [1, 2]\n",
    "\n",
    "# Use any combination of these to make advanced slices\n",
    "# li[start:end:step]\n",
    "\n",
    "# Select every second entry\n",
    "print(li[::2])   # =>[1, 3]\n",
    "# Return a reversed copy of the list\n",
    "print(li[::-1])  # => [3, 2, 1]\n",
    "\n",
    "# Remove arbitrary elements from a list with \"del\"\n",
    "del li[1]  # li is now [1,3]\n",
    "print(li)\n"
   ]
  },
  {
   "cell_type": "code",
   "execution_count": null,
   "metadata": {},
   "outputs": [],
   "source": [
    "li = []\n",
    "\n",
    "# Add stuff to the end of a list with append\n",
    "li.append(1)    # li is now [1]\n",
    "print(li)\n",
    "li.append(2)    # li is now [1, 2]\n",
    "print(li)\n",
    "li.append(4)    # li is now [1, 2, 4]\n",
    "print(li)\n",
    "li.append(3)    # li is now [1, 2, 4, 3]\n",
    "print(li)\n",
    "# Remove from the end with pop\n",
    "li.pop()        # => 3 and li is now [1, 2, 4]\n",
    "print(li)\n",
    "# Let's put it back\n",
    "li.append(3)    # li is now [1, 2, 4, 3] again.\n",
    "print(li)\n",
    "\n",
    "\n",
    "# Remove first occurrence of a value\n",
    "li.remove(2)  # li is now [1,4,3]\n",
    "print(li)\n",
    "li.remove(2)  # Raises a ValueError as 2 is not in the list\n"
   ]
  },
  {
   "cell_type": "code",
   "execution_count": null,
   "metadata": {},
   "outputs": [],
   "source": [
    "li = [1,2,3]\n",
    "other_li = [4,5,6]\n",
    "# You can add lists\n",
    "# Note: values for li and for other_li are not modified.\n",
    "print(li + other_li)  # => [1, 2, 3, 4, 5, 6]\n",
    "\n",
    "li = [1,2,3]\n",
    "other_li = [4,5,6]\n",
    "\n",
    "# Concatenate lists with \"extend()\"\n",
    "li.extend(other_li)  # Now li is [1, 2, 3, 4, 5, 6]\n",
    "print(li)\n",
    "\n",
    "# Check for existence in a list with \"in\"\n",
    "print(1 in li)  # => True\n",
    "\n",
    "# Examine the length with \"len()\"\n",
    "print(len(li))  # => 6"
   ]
  },
  {
   "cell_type": "markdown",
   "metadata": {},
   "source": [
    "## 7. Dictionary: key->value mapping\n",
    "----"
   ]
  },
  {
   "cell_type": "code",
   "execution_count": null,
   "metadata": {},
   "outputs": [],
   "source": [
    "\n",
    "\n",
    "# Dictionaries store mappings from keys to values\n",
    "empty_dict = {}\n",
    "# Here is a prefilled dictionary\n",
    "filled_dict = {\"one\": 1, \"two\": 2, \"three\": 3}\n",
    "\n",
    "\n",
    "# Look up values with []\n",
    "print(filled_dict[\"one\"])  # => 1\n",
    "\n",
    "# Get all keys as an iterable with \"keys()\". We need to wrap the call in list()\n",
    "# to turn it into a list. We'll talk about those later.  Note - for Python\n",
    "# versions <3.7, dictionary key ordering is not guaranteed. Your results might\n",
    "# not match the example below exactly. However, as of Python 3.7, dictionary\n",
    "# items maintain the order at which they are inserted into the dictionary.\n",
    "list(filled_dict.keys())  # => [\"three\", \"two\", \"one\"] in Python <3.7\n",
    "list(filled_dict.keys())  # => [\"one\", \"two\", \"three\"] in Python 3.7+\n",
    "\n",
    "\n",
    "# Get all values as an iterable with \"values()\". Once again we need to wrap it\n",
    "# in list() to get it out of the iterable. Note - Same as above regarding key\n",
    "# ordering.\n",
    "list(filled_dict.values())  # => [3, 2, 1]  in Python <3.7\n",
    "list(filled_dict.values())  # => [1, 2, 3] in Python 3.7+\n",
    "\n",
    "# Check for existence of keys in a dictionary with \"in\"\n",
    "\"one\" in filled_dict  # => True\n",
    "1 in filled_dict      # => False\n",
    "\n",
    "# Looking up a non-existing key is a KeyError\n",
    "filled_dict[\"four\"]  # KeyError\n",
    "\n",
    "# Adding to a dictionary\n",
    "filled_dict.update({\"four\":4})  # => {\"one\": 1, \"two\": 2, \"three\": 3, \"four\": 4}\n",
    "filled_dict[\"four\"] = 4         # another way to add to dict\n",
    "\n",
    "# Remove keys from a dictionary with del\n",
    "del filled_dict[\"one\"]  # Removes the key \"one\" from filled dict\n",
    "\n"
   ]
  },
  {
   "cell_type": "markdown",
   "metadata": {},
   "source": [
    "## 8. For Loops\n"
   ]
  },
  {
   "cell_type": "code",
   "execution_count": null,
   "metadata": {},
   "outputs": [],
   "source": [
    "\"\"\"\n",
    "For loops iterate over lists\n",
    "prints:\n",
    "    dog is a mammal\n",
    "    cat is a mammal\n",
    "    mouse is a mammal\n",
    "\"\"\"\n",
    "for animal in [\"dog\", \"cat\", \"mouse\"]:\n",
    "    # You can use format() to interpolate formatted strings\n",
    "    print(\"{} is a mammal\".format(animal))"
   ]
  },
  {
   "cell_type": "code",
   "execution_count": null,
   "metadata": {},
   "outputs": [],
   "source": [
    "\"\"\"\n",
    "\"range(number)\" returns an iterable of numbers\n",
    "from zero to the given number\n",
    "prints:\n",
    "    0\n",
    "    1\n",
    "    2\n",
    "    3\n",
    "\"\"\"\n",
    "for i in range(4):\n",
    "    print(i)\n",
    "\n",
    "\n",
    "print(\"\")\n",
    "\"\"\"\n",
    "\"range(lower, upper)\" returns an iterable of numbers\n",
    "from the lower number to the upper number\n",
    "prints:\n",
    "    4\n",
    "    5\n",
    "    6\n",
    "    7\n",
    "\"\"\"\n",
    "for i in range(4, 8):\n",
    "    print(i)\n",
    "\n",
    "    \n",
    "print(\"\")\n",
    "\"\"\"\n",
    "\"range(lower, upper, step)\" returns an iterable of numbers\n",
    "from the lower number to the upper number, while incrementing\n",
    "by step. If step is not indicated, the default value is 1.\n",
    "prints:\n",
    "    4\n",
    "    6\n",
    "\"\"\"\n",
    "for i in range(4, 8, 2):\n",
    "    print(i)\n",
    "\n"
   ]
  },
  {
   "cell_type": "code",
   "execution_count": null,
   "metadata": {},
   "outputs": [],
   "source": [
    "# Python offers a fundamental abstraction called the Iterable.\n",
    "# An iterable is an object that can be treated as a sequence.\n",
    "# The object returned by the range function, is an iterable.\n",
    "\n",
    "filled_dict = {\"one\": 1, \"two\": 2, \"three\": 3}\n",
    "our_iterable = filled_dict.keys()\n",
    "print(our_iterable)  # => dict_keys(['one', 'two', 'three']). This is an object that implements our Iterable interface.\n",
    "\n",
    "# We can loop over it.\n",
    "for i in our_iterable:\n",
    "    print(i)  # Prints one, two, three\n",
    "\n",
    "# You can grab all the elements of an iterator by calling list() on it.\n",
    "list(filled_dict.keys())  # => Returns [\"one\", \"two\", \"three\"]"
   ]
  },
  {
   "cell_type": "markdown",
   "metadata": {},
   "source": [
    "## 9. Modules (& Classes)"
   ]
  },
  {
   "cell_type": "code",
   "execution_count": null,
   "metadata": {},
   "outputs": [],
   "source": [
    "# You can import modules\n",
    "import math\n",
    "print(math.sqrt(16))  # => 4.0\n",
    "\n",
    "# You can get specific functions from a module\n",
    "from math import ceil, floor\n",
    "print(ceil(3.7))   # => 4.0\n",
    "print(floor(3.7))  # => 3.0\n",
    "\n",
    "# You can import all functions from a module.\n",
    "# Warning: this is not recommended\n",
    "from math import *\n",
    "\n",
    "# You can shorten module names\n",
    "import math as m\n",
    "math.sqrt(16) == m.sqrt(16)  # => True\n"
   ]
  },
  {
   "cell_type": "markdown",
   "metadata": {},
   "source": [
    "## 10. File I/O"
   ]
  },
  {
   "cell_type": "code",
   "execution_count": null,
   "metadata": {},
   "outputs": [],
   "source": [
    "f = open(\"testfile.txt\",\"w\") # open file to write\n",
    "f.write(\"hello world\\n\") # write hello world then newline (\\n)\n",
    "f.write(\"hello file\\n\") # write hello file then newline (\\n)\n",
    "f.close() # close file"
   ]
  },
  {
   "cell_type": "code",
   "execution_count": null,
   "metadata": {},
   "outputs": [],
   "source": [
    "f = open(\"testfile.txt\",\"r\") # open file to write\n",
    "print(f.readlines()) # read all lines\n",
    "\n",
    "f.seek(0) #resets file reader\n",
    "\n",
    "lines = []\n",
    "for line in f:\n",
    "    lines.append(line.strip()) # same but remove trailing \\n with \".strip()\"\n",
    "    \n",
    "print(lines)\n",
    "\n",
    "f.close() # close file"
   ]
  },
  {
   "cell_type": "code",
   "execution_count": null,
   "metadata": {},
   "outputs": [],
   "source": []
  }
 ],
 "metadata": {
  "kernelspec": {
   "display_name": "Python 3",
   "language": "python",
   "name": "python3"
  },
  "language_info": {
   "codemirror_mode": {
    "name": "ipython",
    "version": 3
   },
   "file_extension": ".py",
   "mimetype": "text/x-python",
   "name": "python",
   "nbconvert_exporter": "python",
   "pygments_lexer": "ipython3",
   "version": "3.6.7"
  }
 },
 "nbformat": 4,
 "nbformat_minor": 2
}
