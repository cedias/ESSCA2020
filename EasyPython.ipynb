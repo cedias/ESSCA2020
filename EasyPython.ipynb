{
 "cells": [
  {
   "cell_type": "markdown",
   "metadata": {},
   "source": [
    "# Let’s do some python"
   ]
  },
  {
   "cell_type": "markdown",
   "metadata": {},
   "source": [
    "### a) Addition"
   ]
  },
  {
   "cell_type": "markdown",
   "metadata": {},
   "source": [
    "Create a function `addition` that takes two numbers as arguments and return their sum.\n",
    "\n",
    "Examples\n",
    "\n",
    "```python\n",
    "addition(3, 2) # 5\n",
    "addition(-3, -6) # -9\n",
    "addition(7, 3) # 10\n",
    "```\n"
   ]
  },
  {
   "cell_type": "code",
   "execution_count": null,
   "metadata": {},
   "outputs": [],
   "source": [
    "#... "
   ]
  },
  {
   "cell_type": "code",
   "execution_count": null,
   "metadata": {},
   "outputs": [],
   "source": [
    "addition(3, 2)\n",
    "addition(-3, -6)\n",
    "addition(7, 3)"
   ]
  },
  {
   "cell_type": "markdown",
   "metadata": {},
   "source": [
    "## b) Slightly more complex operation"
   ]
  },
  {
   "cell_type": "markdown",
   "metadata": {},
   "source": [
    "Create a function that calculates the profit margin given cost_price and sales_price. Return the result as a percentage, and rounded to one decimals. To calculate profit margin you subtract the cost from the sales price, then divide by salesprice.\n",
    "Examples\n",
    "\n",
    "```python\n",
    "profit_margin(50, 50)  # 0.0\n",
    "profit_margin(28, 39)  # 28.2\n",
    "profit_margin(33, 84) # 60.7\n",
    "```\n"
   ]
  },
  {
   "cell_type": "code",
   "execution_count": null,
   "metadata": {},
   "outputs": [],
   "source": [
    "#..."
   ]
  },
  {
   "cell_type": "code",
   "execution_count": null,
   "metadata": {},
   "outputs": [],
   "source": [
    "profit_margin(50, 50)  # 0.0\n",
    "profit_margin(28, 39)  # 28.2\n",
    "profit_margin(33, 84) # 60.7"
   ]
  },
  {
   "cell_type": "markdown",
   "metadata": {},
   "source": [
    "## c) Booleans ? "
   ]
  },
  {
   "cell_type": "markdown",
   "metadata": {},
   "source": [
    "Create a function that takes a number as its only argument and returns True if it's less than or equal to zero, otherwise return False.\n",
    "\n",
    "Examples\n",
    "```python\n",
    "less_than_or_equal_to_zero(5) ➞ False\n",
    "less_than_or_equal_to_zero(0) ➞ True\n",
    "less_than_or_equal_to_zero(-2) ➞ True\n",
    "```"
   ]
  },
  {
   "cell_type": "code",
   "execution_count": null,
   "metadata": {},
   "outputs": [],
   "source": [
    " #..."
   ]
  },
  {
   "cell_type": "code",
   "execution_count": null,
   "metadata": {},
   "outputs": [],
   "source": [
    "less_than_or_equal_to_zero(5) # False\n",
    "less_than_or_equal_to_zero(0) # True\n",
    "less_than_or_equal_to_zero(-2) # True"
   ]
  },
  {
   "cell_type": "markdown",
   "metadata": {},
   "source": [
    "## d) Scrabble Score\n",
    "\n",
    "Given a word, compute the scrabble score for that word.\n",
    "\n",
    "You'll need these:\n",
    "\n",
    "#### Letter values                     \n",
    "- 1:       A, E, I, O, U, L, N, R, S, T       \n",
    "- 2:       D, G                               \n",
    "- 3: B, C, M, P                         \n",
    "- 4: F, H, V, W, Y                     \n",
    "- 5: K                                  \n",
    "- 8: J, X                               \n",
    "- 10: Q, Z                               \n",
    "\n",
    "Examples\n",
    "\n",
    "\"cabbage\" should be scored as worth 14 points:\n",
    "\n",
    "    3 points for C\n",
    "    1 point for A, twice\n",
    "    3 points for B, twice\n",
    "    2 points for G\n",
    "    1 point for E\n",
    "\n",
    "And to total:\n",
    "\n",
    "    3 + 2*1 + 2*3 + 2 + 1\n",
    "    = 3 + 2 + 6 + 3\n",
    "    = 5 + 9\n",
    "    = 14\n"
   ]
  },
  {
   "cell_type": "code",
   "execution_count": null,
   "metadata": {},
   "outputs": [],
   "source": [
    "# ..."
   ]
  },
  {
   "cell_type": "code",
   "execution_count": null,
   "metadata": {},
   "outputs": [],
   "source": [
    "scrabble_score(\"cabbage\") #14"
   ]
  },
  {
   "cell_type": "markdown",
   "metadata": {},
   "source": [
    "## e) Mandatory FizzBuzz\n",
    "Create a function that takes a number as an argument and returns \"Fizz\", \"Buzz\" or \"FizzBuzz\".\n",
    "\n",
    "- If the number is a multiple of 3 the output should be \"Fizz\".\n",
    "- If the number given is a multiple of 5, the output should be \"Buzz\".\n",
    "- If the number given is a multiple of both 3 and 5, the output should be \"FizzBuzz\".\n",
    "- If the number is not a multiple of either 3 or 5, the number should be output on its own as shown in the examples below.\n",
    "\n",
    "```python\n",
    "fizb(5) # \"Buzz\"\n",
    "fizb(3) # \"Fizz\"\n",
    "fizb(3) # \"FizzBuzz\"\n",
    "fizb(-2) # -2\n",
    "```\n"
   ]
  },
  {
   "cell_type": "code",
   "execution_count": null,
   "metadata": {},
   "outputs": [],
   "source": []
  },
  {
   "cell_type": "code",
   "execution_count": null,
   "metadata": {},
   "outputs": [],
   "source": [
    "fizb(5) # \"Buzz\"\n",
    "fizb(3) # \"Fizz\"\n",
    "fizb(3) # \"FizzBuzz\"\n",
    "fizb(-2) # -2"
   ]
  },
  {
   "cell_type": "markdown",
   "metadata": {},
   "source": [
    "## DIY: Write 6 different functions to compute respectively the min/max/mean/median/sum/prod of a list of integers\n",
    "\n",
    "\n",
    "# /!\\ DO NOT USE BUILT IN FUNCTIONS"
   ]
  },
  {
   "cell_type": "code",
   "execution_count": null,
   "metadata": {},
   "outputs": [],
   "source": [
    "listOfNumbers = [50,2,1,55,47,85,398]"
   ]
  },
  {
   "cell_type": "code",
   "execution_count": null,
   "metadata": {},
   "outputs": [],
   "source": [
    "def min(listNumbers):\n",
    "    return #something\n",
    "\n",
    "#...\n",
    "\n"
   ]
  }
 ],
 "metadata": {
  "kernelspec": {
   "display_name": "Python 3",
   "language": "python",
   "name": "python3"
  },
  "language_info": {
   "codemirror_mode": {
    "name": "ipython",
    "version": 3
   },
   "file_extension": ".py",
   "mimetype": "text/x-python",
   "name": "python",
   "nbconvert_exporter": "python",
   "pygments_lexer": "ipython3",
   "version": "3.6.7"
  }
 },
 "nbformat": 4,
 "nbformat_minor": 4
}
